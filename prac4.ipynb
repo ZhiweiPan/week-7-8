{
 "cells": [
  {
   "cell_type": "code",
   "execution_count": null,
   "metadata": {},
   "outputs": [],
   "source": [
    "Practice 4\n",
    "\n",
    "1.\tSymbolize the following proposition and discuss the truth.\n",
    "a)\tAssume Y(x) x refers to all people, F(x) x refers to black hair people\n",
    "The symbolization of proposition is x(Y(x)F(x))\n",
    "But assume there is a yellow hair man, then Y(x) is true but F(x) is false\n",
    "So, the symbolization is false and so do the proposition \n",
    "b)\tAssume Y(x) x refers to people, F(x) x refers to boarded on the moon\n",
    "The proposition symbolization is x(Y(x)^F(x))\n",
    "Armstrong boarded on the moon\n",
    "Proposition is true\n",
    "c)\tAssume Y(x) x refers to people, F(x) x refers to boarded on the Jupiter\n",
    "The proposition symbolization is x(Y(x)^F(x))\n",
    "Yet no one has boarded Jupiter\n",
    "Proposition is false\n",
    "d)\tAssume Y(x) x refers to students, A(x) x refers to studying in the US, F(x) x refers to Asians\n",
    "The symbolization of proposition is x(￢(Y(x) ^A(x))F(x))\n",
    "Clark is an Africa student studying in US, he is not an Asian\n",
    "Proposition is true\n",
    "\n",
    "2.\tJudge the following formula, which is tautology? What is the contradiction?\n",
    "a)\tTautology, ￢∀x∀yG(x,y)⇒∀xF(x)\n",
    "b)\tNot tautology, ( ∀xF(x)⇒∃yG(y))∧∃yG(y)\n",
    "c)\tTautology, ￢∃x(F(x)⇒G(y))\n",
    "\n",
    "\n",
    "3.\tWhich of the following are correct?\n",
    "a)\tFalse\n",
    "b)\tTrue\n",
    "c)\tTrue\n",
    "d)\tFalse\n",
    "e)\tFalse\n",
    "\n",
    "4.\tP∧(Q⇒R)⇒S;  P∧(￢Q∨R)⇒S;  ￢(P∧(￢Q∨R))∨S;  ￢(P∧(￢Q∨R))∨S;  \n",
    "￢(P∨S)∧￢((￢Q∨R))∨S);  ￢(P∨S)∧ ((Q∨￢R))∨￢S);  \n",
    " (￢P∨￢S)∧ (Q∨￢R∨￢S)\n",
    "\n",
    "5.\t∀ x Even(x) \n",
    "∀ x Prime(x)\n",
    "∀z Even(z) ⇒ ∃ x ∃ y g (Prime (x), Prime (y))\n"
   ]
  }
 ],
 "metadata": {
  "kernelspec": {
   "display_name": "Python 3",
   "language": "python",
   "name": "python3"
  },
  "language_info": {
   "codemirror_mode": {
    "name": "ipython",
    "version": 3
   },
   "file_extension": ".py",
   "mimetype": "text/x-python",
   "name": "python",
   "nbconvert_exporter": "python",
   "pygments_lexer": "ipython3",
   "version": "3.6.5"
  }
 },
 "nbformat": 4,
 "nbformat_minor": 2
}
